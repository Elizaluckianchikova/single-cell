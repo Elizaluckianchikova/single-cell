Single-Cell RNA-Seq Analysis and Classification
This project focuses on the comprehensive analysis of single-cell RNA-seq data using the Scanpy library for data preprocessing and analysis, coupled with machine learning techniques from scikit-learn for classification and model evaluation. The dataset used in this project is sourced from Kaggle.

Project Overview The primary goal of this project is to analyze gene expression in single-cell data to identify marker genes, cluster cells, and build classification models to predict cell groups based on gene expression.

Table of Contents Installation

Data Loading and Preprocessing
Gene Presence Check
Marker Gene Calculation
Feature and Target Preparation
Data Splitting
Model Training
Feature Importance Visualization
Dependencies
Dataset Source
Installation

To run this project, you need to install the required Python packages. You can do this using pip:

bash Copy code pip install scanpy scikit-learn matplotlib seaborn

Data Loading and Preprocessing

Load data from an '.h5ad' file using 'Scanpy'.
Handle potential errors during data loading, such as 'FileNotFoundError'.
Gene Presence Check

Verify the presence of selected genes in the data. If any gene is missing, raise a KeyError.
Marker Gene Calculation

Use Scanpy methods to calculate marker genes for each cluster.
Filter marker genes based on adjusted p-values to reduce the number of false discoveries.
Feature and Target Preparation

Extract data for filtered marker genes into a feature matrix X.
Extract class labels (clusters) into a target vector y.
Data Splitting

Split the data into training and testing sets using train_test_split from scikit-learn.
Model Training

Train a classification model, such as RandomForestClassifier, on the training data.
Model Evaluation

Output a classification report using classification_report.

Display and visualize the confusion matrix using confusion_matrix and seaborn.heatmap.

Feature Importance Visualization

Plot the importance of features (genes) to understand which genes are most important for predicting classes.
Dependencies 'Scanpy': For single-cell data analysis.

'scikit-learn': For machine learning and model evaluation.

'matplotlib' and 'seaborn': For data visualization.

Dataset Source The dataset used in this project is sourced from Kaggle(https://www.kaggle.com/datasets/shtrausslearning/bioinformatics). Please refer to the Kaggle page for more details on the dataset, including its origin, composition, and any licensing information.

Conclusion This project provides a comprehensive toolkit for the analysis and classification of single-cell data, which can be invaluable for researchers and professionals in the fields of biology and bioinformatics. It demonstrates a holistic approach to data analysis, from preprocessing to building and evaluating machine learning models.
